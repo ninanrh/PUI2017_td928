{
 "cells": [
  {
   "cell_type": "code",
   "execution_count": 1,
   "metadata": {
    "collapsed": true
   },
   "outputs": [],
   "source": [
    "from __future__ import print_function\n",
    "__author__ = \"Federica B. Bianco, CUSP NYU 2016\""
   ]
  },
  {
   "cell_type": "markdown",
   "metadata": {},
   "source": [
    "# Create a <i>reproducible research</i> chunk of code\n",
    "\n",
    "That means we want the reader to be able to reproduce every step of the work we do. \n",
    "\n",
    "If our work includes the use of stochastic processes and random variables that gets tricky: how do we assure the random draw gives the same number to the user that it gave to me? That is not random! \n",
    "\n",
    "That becomes possible because computers are unable to poduce truly random numbers. When we ask a computer to generate a random number, it will in fact generate a \"pseudo random\" number. The number will be randon in the sanse that it will be some number between, for example, 0 and 1 if we ask for a **uniform random distribution** or a number near 0 if we aks for a **Gaussian distribution with mean 0**. <i> But the sequence of pseudo-random numbers that a compujter generates will depend on its **seed**: if you know the seed you know all the numbers that are \"randomely\" drawn</i>.  \n",
    "\n",
    "You can read more about pseudorandom number generation in this wikipedia article https://en.wikipedia.org/wiki/Pseudorandom_number_generator\n",
    "\n",
    "Fill in the empty cells below with code, as directed."
   ]
  },
  {
   "cell_type": "code",
   "execution_count": 1,
   "metadata": {
    "collapsed": false
   },
   "outputs": [],
   "source": [
    "import os\n",
    "import sys\n",
    "\n",
    "# you can use the numpy library for random number generation: \n",
    "# http://docs.scipy.org/doc/numpy/reference/routines.random.html\n",
    "\n",
    "import numpy as np"
   ]
  },
  {
   "cell_type": "markdown",
   "metadata": {},
   "source": [
    "## THIS IS THE MOST IMPORTANT PIECE OF THIS CODE! \n",
    "### give numpy as seed for this code to be reproducible \n",
    "(no points if this is wrong)\n",
    "\n",
    "http://docs.scipy.org/doc/numpy/reference/generated/numpy.random.seed.html"
   ]
  },
  {
   "cell_type": "code",
   "execution_count": 18,
   "metadata": {
    "collapsed": false
   },
   "outputs": [
    {
     "name": "stdout",
     "output_type": "stream",
     "text": [
      "('seed is:', <built-in method seed of mtrand.RandomState object at 0x7f8e1007c280>)\n"
     ]
    }
   ],
   "source": [
    "# code here...\n",
    "np.random.RandomState\n",
    "seed = np.random.seed\n",
    "print('seed is:',seed)"
   ]
  },
  {
   "cell_type": "markdown",
   "metadata": {},
   "source": [
    "### 1. Generate random distributions. use the function \n",
    "http://docs.scipy.org/doc/numpy/reference/generated/numpy.random.randn.html\n",
    "### to generate 100 2-dimensional random datapoints in a gaussian distribution \n",
    "\n",
    "call the array ReprRand\n"
   ]
  },
  {
   "cell_type": "code",
   "execution_count": 4,
   "metadata": {
    "collapsed": false
   },
   "outputs": [],
   "source": [
    "# code here...\n",
    "ReprRand = np.random.randn(2,100)"
   ]
  },
  {
   "cell_type": "markdown",
   "metadata": {},
   "source": [
    "#### if you did this correctly the shape of ReprRand will be (2, 100)\n"
   ]
  },
  {
   "cell_type": "code",
   "execution_count": 6,
   "metadata": {
    "collapsed": false
   },
   "outputs": [
    {
     "name": "stdout",
     "output_type": "stream",
     "text": [
      "[[  1.73196161e-01  -1.84231546e-01   4.57446947e-01   8.22734758e-01\n",
      "   -7.67249737e-01  -5.06999901e-01  -2.11597574e-01   4.80004646e-01\n",
      "    1.47052217e-01   7.32041458e-01  -1.86914630e-02   3.55141782e-01\n",
      "   -1.41925037e+00  -1.20785094e+00   4.41139059e-01   6.00061297e-01\n",
      "    4.63520381e-01  -1.62536262e-01  -9.31166764e-01   3.06974083e+00\n",
      "   -8.83671715e-01   1.01145928e+00   2.80139735e-01  -1.17598175e+00\n",
      "   -2.40600142e-01   1.07407029e+00   9.91169768e-01  -7.46134193e-01\n",
      "    1.92012127e-01   8.32027166e-01  -6.77283954e-01   1.24436969e+00\n",
      "   -1.23260769e+00  -4.95263593e-02   8.04448209e-01   9.59920694e-01\n",
      "   -2.33083016e-02  -1.05146118e+00  -2.89587241e-01   5.50840605e-01\n",
      "    3.73064671e-01  -6.84031417e-01   2.59150826e+00  -1.47063535e+00\n",
      "    1.89334761e-01  -1.45830576e-01  -8.74239668e-01  -5.48441595e-01\n",
      "   -1.32368133e+00   5.42583570e-01   1.59411773e+00   2.07434344e+00\n",
      "   -6.02597852e-01   1.59177728e+00   1.16551029e-01   8.72438581e-01\n",
      "   -1.01204633e+00   2.38960388e-01   1.89450634e+00  -1.64942689e-01\n",
      "    4.77747075e-01   3.24487844e-01   1.45769573e+00   1.26418154e+00\n",
      "    9.65360267e-01   1.08857990e+00  -9.57845612e-01  -8.29005146e-01\n",
      "   -1.12222393e+00  -1.55908309e+00  -1.36432864e+00  -5.34122524e-01\n",
      "   -7.09857183e-01   1.51838820e-01  -1.01212688e+00   8.49382278e-01\n",
      "    3.75651040e-01  -3.81187273e-01   7.11570814e-01   2.15634731e-01\n",
      "    8.25854946e-01   2.93508224e+00   1.49327713e+00  -5.47848866e-01\n",
      "    1.35763345e+00   1.53552746e+00   4.78836274e-01   1.98534349e+00\n",
      "   -5.92250203e-01  -1.83795206e+00   2.03159557e+00   1.11968710e-01\n",
      "    3.79168340e-02  -7.60504365e-01   6.37098391e-02   2.04547569e+00\n",
      "    2.29574961e+00   8.82807176e-01  -1.15544755e+00   7.34112464e-01]\n",
      " [  1.00674307e+00  -7.31109722e-01  -1.66384362e+00   9.60185964e-01\n",
      "   -2.35365595e-01  -2.05838929e-01   1.05124318e+00  -4.95596410e-02\n",
      "   -7.77454942e-01   7.52275366e-01   4.09218235e-01  -3.16036163e-01\n",
      "    6.22319338e-01  -4.04503727e-01  -5.01415518e-01  -3.45771041e-01\n",
      "   -1.81508857e-01   5.40943043e-01   6.51610389e-01  -4.38397208e-01\n",
      "    5.55147918e-01   1.70942911e+00   1.62949023e+00  -5.55410307e-01\n",
      "    4.80628759e-01  -1.56966113e-01   1.06102994e+00  -8.77005307e-01\n",
      "   -1.03400833e+00   1.67544382e-01   4.47335969e-01  -1.32581289e+00\n",
      "    4.42309744e-02  -3.79927686e-01   1.10889933e-01   9.09867994e-01\n",
      "    3.64152558e-01  -1.01286805e+00  -1.01240233e+00  -3.17261011e+00\n",
      "   -5.02583628e-01  -2.59539747e-01  -9.95325143e-01  -4.70539174e-01\n",
      "    1.44446223e+00   8.69843189e-01   8.57079336e-01   1.70480404e+00\n",
      "   -1.40062421e-02   1.17887200e+00  -1.94623828e+00   3.21937845e-01\n",
      "    1.39426014e+00  -1.49149667e+00  -2.31828162e-01  -2.33159997e-01\n",
      "    1.17225218e-02   4.86854638e-01   9.72403737e-01  -2.54384490e-01\n",
      "   -1.55189501e-01   1.03381272e+00  -1.09925120e+00  -4.10964215e-01\n",
      "   -4.02372116e-01   1.29760040e+00   2.30851480e+00  -7.26474746e-01\n",
      "    6.88151431e-01  -1.20988691e+00   2.67570087e-01   8.65322390e-01\n",
      "    5.55679843e-03  -1.71555046e-01  -1.35067992e-01  -2.10858643e+00\n",
      "    6.11465261e-02  -1.04756455e+00  -6.64286964e-02  -1.43086581e+00\n",
      "   -2.46355321e-02  -8.24116492e-01  -7.52684125e-01   3.15191510e-03\n",
      "    9.59349408e-02  -2.17887203e-01  -1.24524914e+00  -1.20828196e+00\n",
      "    2.12912440e+00  -4.29352325e-01  -6.08100985e-01   1.48980899e-01\n",
      "   -9.87621424e-02  -7.48760320e-01   2.43830112e-01  -1.93895688e-01\n",
      "    1.52299151e+00  -5.49809001e-02   1.71818806e+00  -9.18960191e-01]]\n"
     ]
    }
   ],
   "source": [
    "# run this cell\n",
    "ReprRand.shape\n",
    "print (ReprRand)"
   ]
  },
  {
   "cell_type": "markdown",
   "metadata": {},
   "source": [
    "## 2. use the same function to generate 50 more random 2x100 numpy arrays and store them in ReprRandAll, all with different mean.\n",
    "\n",
    "np.random.randn creates a distribution with mean 0 and standard deviation 1 by default.\n",
    "\n",
    "To obtain a gaussian distribution with a mean different than 1 using np.random.randn you must add your new mean (it is explained in the dunction documentation for which I already gave you the link)\n",
    "\n",
    "If you want to change the standard deviation (sigma) as well you multiply the distribution by the new sigma.\n",
    "\n",
    "You can do it in a for loop. The first line of code I included generates an array of zeros that you can fill in with your new numbers. \n",
    "\n",
    "\n"
   ]
  },
  {
   "cell_type": "code",
   "execution_count": 19,
   "metadata": {
    "collapsed": false
   },
   "outputs": [
    {
     "name": "stdout",
     "output_type": "stream",
     "text": [
      "[[[ 2.67444029  0.47803858  1.70783628 ...,  2.99944179  1.69213532\n",
      "    1.25449054]\n",
      "  [ 1.46280419  1.94175126  1.76975518 ...,  0.61431192  3.31170859\n",
      "    2.70892196]]\n",
      "\n",
      " [[-0.44162421 -0.44204983 -0.08573026 ...,  1.00531565  0.5039595\n",
      "   -0.38623835]\n",
      "  [ 0.51245437  1.10075145  1.5149963  ..., -0.12048496  1.18679112\n",
      "   -1.23136413]]\n",
      "\n",
      " [[ 2.1081973  -0.80806065  0.41342166 ...,  1.696157    0.65229748\n",
      "   -0.79747574]\n",
      "  [ 1.94498222  0.38428088  0.21866798 ..., -0.63998608 -0.81160799\n",
      "    0.85104474]]\n",
      "\n",
      " ..., \n",
      " [[ 0.34130692  0.67236582  0.05606484 ..., -0.623224    0.50521146\n",
      "    1.33615805]\n",
      "  [ 0.92305651  0.88035799 -0.42521713 ...,  0.71201963 -0.07680323\n",
      "   -0.23994362]]\n",
      "\n",
      " [[-2.9431131  -2.3064817  -2.70136222 ..., -2.43325236 -2.12669638\n",
      "   -1.92966583]\n",
      "  [-2.36449448 -1.76688776 -2.34976034 ..., -1.90080254 -2.45518241\n",
      "   -2.0237092 ]]\n",
      "\n",
      " [[ 5.14980863 -0.04249455 -1.23614692 ...,  1.33362936 -1.25127151\n",
      "    0.64337869]\n",
      "  [-0.35741522 -4.20966972 -2.09097038 ...,  0.67528981  1.68398245\n",
      "   -2.24923049]]]\n"
     ]
    }
   ],
   "source": [
    "ReprRandAll = np.zeros((50, 2, 100))\n",
    "\n",
    "means = np.random.randn(50)\n",
    "sigma = np.random.randn(50)\n",
    "\n",
    "for i in range(50):\n",
    "    #code here...\n",
    "    ReprRandAll[i] = sigma[i]*np.random.randn(2,100)+ means[i]\n",
    "\n",
    "print(ReprRandAll)"
   ]
  },
  {
   "cell_type": "code",
   "execution_count": 93,
   "metadata": {
    "collapsed": false
   },
   "outputs": [
    {
     "data": {
      "text/plain": [
       "(50, 2, 100)"
      ]
     },
     "execution_count": 93,
     "metadata": {},
     "output_type": "execute_result"
    }
   ],
   "source": [
    "# run this cell\n",
    "ReprRandAll.shape"
   ]
  },
  {
   "cell_type": "markdown",
   "metadata": {},
   "source": [
    "## 3. now plot them: \n",
    "\n",
    "you can use the matplotlib library, and the function scatter(), but that would plot everything in the same color unless you ask it not to. For convenience, let's use the function plot() which by default plots lines, and tell it to plot points (in addition plot is actually more efficient, so if you have a large dataset you may want to consider using plot with points for it anyways)\n",
    "\n",
    "https://scipy-lectures.github.io/intro/matplotlib/matplotlib.html#scatter-plots\n",
    "\n",
    "http://matplotlib.org/users/pyplot_tutorial.html\n"
   ]
  },
  {
   "cell_type": "code",
   "execution_count": 21,
   "metadata": {
    "collapsed": false
   },
   "outputs": [
    {
     "name": "stdout",
     "output_type": "stream",
     "text": [
      "Populating the interactive namespace from numpy and matplotlib\n"
     ]
    },
    {
     "ename": "ImportError",
     "evalue": "No module named matplotlitb",
     "output_type": "error",
     "traceback": [
      "\u001b[1;31m---------------------------------------------------------------------------\u001b[0m",
      "\u001b[1;31mImportError\u001b[0m                               Traceback (most recent call last)",
      "\u001b[1;32m<ipython-input-21-8981a7e6fa13>\u001b[0m in \u001b[0;36m<module>\u001b[1;34m()\u001b[0m\n\u001b[0;32m      7\u001b[0m \u001b[1;31m# code here\u001b[0m\u001b[1;33m\u001b[0m\u001b[1;33m\u001b[0m\u001b[0m\n\u001b[0;32m      8\u001b[0m \u001b[0mget_ipython\u001b[0m\u001b[1;33m(\u001b[0m\u001b[1;33m)\u001b[0m\u001b[1;33m.\u001b[0m\u001b[0mmagic\u001b[0m\u001b[1;33m(\u001b[0m\u001b[1;34mu'matplotlib inline'\u001b[0m\u001b[1;33m)\u001b[0m\u001b[1;33m\u001b[0m\u001b[0m\n\u001b[1;32m----> 9\u001b[1;33m \u001b[1;32mfrom\u001b[0m \u001b[0mmatplotlitb\u001b[0m \u001b[1;32mimport\u001b[0m \u001b[0mpyplot\u001b[0m \u001b[1;32mas\u001b[0m \u001b[0mplt\u001b[0m\u001b[1;33m\u001b[0m\u001b[0m\n\u001b[0m\u001b[0;32m     10\u001b[0m \u001b[1;33m\u001b[0m\u001b[0m\n",
      "\u001b[1;31mImportError\u001b[0m: No module named matplotlitb"
     ]
    }
   ],
   "source": [
    "import pylab as pl\n",
    "%pylab inline\n",
    "# the last line of code makes the plot show up within the notebook. \n",
    "# Always include it so that your homework notebooks are rendered and we can see\n",
    "# what you wanted your results to be. \n",
    "\n",
    "# code here\n",
    "%matplotlib inline\n",
    "from matplotlib import pyplot as plt\n",
    "\n"
   ]
  },
  {
   "cell_type": "markdown",
   "metadata": {},
   "source": [
    "Always add a caption to each of your homework figures. \n",
    "And remember to give your labels some names! \n",
    "This is a general rule. Without the caption or axis labels this portion of the HW will not get points. Make sure the font in the labels is large enough to be readable.  \n",
    "\n",
    "## Figure 1: \n",
    "\n",
    "[write a caption here]"
   ]
  },
  {
   "cell_type": "markdown",
   "metadata": {},
   "source": [
    "## Challenge\n",
    "\n",
    "It is easier to give the same mean and standard deviation to each dimension. Can you give two different values for the mean along the x- and the mean along the y- axis for each of the 50 distributions if you have not done so? If you are an experienced coder, can you do it in a single line?\n",
    "\n",
    "\n"
   ]
  },
  {
   "cell_type": "code",
   "execution_count": 4,
   "metadata": {
    "collapsed": true
   },
   "outputs": [],
   "source": [
    "# code here..."
   ]
  },
  {
   "cell_type": "code",
   "execution_count": 2,
   "metadata": {
    "collapsed": true
   },
   "outputs": [],
   "source": [
    "# plot here..."
   ]
  },
  {
   "cell_type": "code",
   "execution_count": null,
   "metadata": {
    "collapsed": true
   },
   "outputs": [],
   "source": []
  }
 ],
 "metadata": {
  "anaconda-cloud": {},
  "kernelspec": {
   "display_name": "Python 2",
   "language": "python",
   "name": "python2"
  },
  "language_info": {
   "codemirror_mode": {
    "name": "ipython",
    "version": 2
   },
   "file_extension": ".py",
   "mimetype": "text/x-python",
   "name": "python",
   "nbconvert_exporter": "python",
   "pygments_lexer": "ipython2",
   "version": "2.7.11"
  }
 },
 "nbformat": 4,
 "nbformat_minor": 0
}
