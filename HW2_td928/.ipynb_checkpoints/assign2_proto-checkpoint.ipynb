{
 "cells": [
  {
   "cell_type": "code",
   "execution_count": 36,
   "metadata": {
    "collapsed": false
   },
   "outputs": [
    {
     "name": "stdout",
     "output_type": "stream",
     "text": [
      "http://bustime.mta.info/api/siri/vehicle-monitoring.json?key=9bd59b7e-d0f9-4358-818a-ab5abd8ac26f&VehicleMonitoringDetailLevel=calls&LineRef=B52\n",
      "now is the 0 iteration\n",
      "now is the 1 iteration\n",
      "now is the 2 iteration\n",
      "now is the 3 iteration\n",
      "now is the 4 iteration\n",
      "now is the 5 iteration\n",
      "now is the 6 iteration\n",
      "now is the 7 iteration\n",
      "now is the 8 iteration\n",
      "now is the 9 iteration\n",
      "now is the 10 iteration\n",
      "now is the 11 iteration\n",
      "now is the 12 iteration\n",
      "now is the 13 iteration\n",
      "     Latitude  Longitude                   Stop Name    Stop Status\n",
      "0   40.687463 -73.959289        GREENE AV/CLASSON AV        at stop\n",
      "1   40.700472 -73.910078  PALMETTO ST/ST NICHOLAS AV        at stop\n",
      "2   40.685823 -73.954014         GATES AV/BEDFORD AV        at stop\n",
      "3   40.689430 -73.922590           GATES AV/BROADWAY        at stop\n",
      "4   40.686651 -73.975271      FULTON ST/S ELLIOTT PL        at stop\n",
      "5   40.689449 -73.922419           GATES AV/BROADWAY        at stop\n",
      "6   40.693291 -73.990615    CADMAN PLZ W/MONTAGUE ST    approaching\n",
      "7   40.686720 -73.965731     GREENE AV/WASHINGTON AV    approaching\n",
      "8   40.686551 -73.947690           GATES AV/MARCY AV    approaching\n",
      "9   40.691883 -73.988413          FULTON ST/SMITH ST    approaching\n",
      "10  40.685903 -73.953306         GATES AV/BEDFORD AV    approaching\n",
      "11  40.694377 -73.917271          GATES AV/WILSON AV  < 1 stop away\n",
      "12  40.700890 -73.910415         GATES AV/WYCKOFF AV  < 1 stop away\n",
      "13  40.687826 -73.978236         FULTON ST/HUDSON AV  < 1 stop away\n"
     ]
    }
   ],
   "source": [
    "from __future__ import print_function\n",
    "import os\n",
    "import sys\n",
    "import json\n",
    "import csv\n",
    "import pandas as pd\n",
    "try:\n",
    "    import urllib2 as urllib\n",
    "except ImportError:\n",
    "    import urllib.request as urllib\n",
    "    \n",
    "\n",
    "\n",
    "url = \"http://bustime.mta.info/api/siri/vehicle-monitoring.json?key=9bd59b7e-d0f9-4358-818a-ab5abd8ac26f&VehicleMonitoringDetailLevel=calls&LineRef=B52\"\n",
    "print (url)\n",
    "response = urllib.urlopen(url)\n",
    "data = response.read().decode(\"utf-8\")\n",
    "data = json.loads(data)\n",
    "\n",
    "\n",
    "all_vehicles_info = data['Siri']['ServiceDelivery']['VehicleMonitoringDelivery'][0]['VehicleActivity']\n",
    "\n",
    "vehicle_count = len(all_vehicles_info)\n",
    "\n",
    "\n",
    "# print out the coordinate location for each individual vehicles\n",
    "\n",
    "#with open('B52.csv', \"wb\") as csv_file:\n",
    "    #writer = csv.writer(csv_file, delimiter=',')\n",
    "    #writer.writerow(['Latitude', 'Longitude','Stop Name','Stop Status'])\n",
    "\n",
    "# Create a dataframe to store the print out information\n",
    "\n",
    "stop_info_dict = {}\n",
    "\n",
    "stop_info_list = []\n",
    "\n",
    "for i in range(vehicle_count):\n",
    "    \n",
    "    # now is the #th interation\n",
    "    \n",
    "    print('now is the ' + str(i) + ' iteration')\n",
    "    \n",
    "    # Check if the bus stop status is available then try to create a exception\n",
    "    try: \n",
    "        OnwardCall = all_vehicles_info[i]['MonitoredVehicleJourney']['OnwardCalls']['OnwardCall']\n",
    "        stop_name = OnwardCall[0]['StopPointName']\n",
    "        stop_status = OnwardCall[0]['Extensions']['Distances']['PresentableDistance']\n",
    "    except KeyError:\n",
    "        stop_name = 'N/A'\n",
    "        stop_status = 'N/A'\n",
    "    \n",
    "    \n",
    "    # Getting the coordinate of the buses\n",
    "    \n",
    "    location = all_vehicles_info[i]['MonitoredVehicleJourney']['VehicleLocation']\n",
    "    latitude = location['Latitude']\n",
    "    longitude = location['Longitude']\n",
    "    \n",
    "    # Creating a panda series to store the new values and update the dataframe\n",
    "    \n",
    "    # stop_info_dict[str(i)] = pd.Series([latitude, longitude, stop_name, stop_status], index = ['Latitude', 'Longitude', 'Stop Name', 'Stop Status'])\n",
    "    stop_info_list.append({'Latitude': latitude, 'Longitude': longitude, 'Stop Name': stop_name, 'Stop Status': stop_status})\n",
    "\n",
    "stop_info_df = pd.DataFrame(stop_info_list)\n",
    "print(stop_info_df)\n",
    "\n",
    "stop_info_df.to_csv(path_or_buf='B54.csv',index=False)\n",
    "\n",
    "\n",
    "    # Print the output\n",
    "    #ofile = open('B54.csv','a')\n",
    "    #writer = csv.writer(ofile, delimiter=',')\n",
    "    #writer.writerow([latitude, longitude, stop_name, stop_status])\n",
    "    #ofile.close()"
   ]
  },
  {
   "cell_type": "code",
   "execution_count": 6,
   "metadata": {
    "collapsed": true
   },
   "outputs": [],
   "source": [
    "all_vehicles_info = data['Siri']['ServiceDelivery']['VehicleMonitoringDelivery'][0]['VehicleActivity']"
   ]
  },
  {
   "cell_type": "code",
   "execution_count": 7,
   "metadata": {
    "collapsed": false
   },
   "outputs": [
    {
     "data": {
      "text/plain": [
       "{}"
      ]
     },
     "execution_count": 7,
     "metadata": {},
     "output_type": "execute_result"
    }
   ],
   "source": [
    "all_vehicles_info[6]['MonitoredVehicleJourney']['OnwardCalls']"
   ]
  },
  {
   "cell_type": "code",
   "execution_count": 21,
   "metadata": {
    "collapsed": false
   },
   "outputs": [
    {
     "data": {
      "text/plain": [
       "{'12': Latitude                     40.6917\n",
       " Longitude                   -73.9879\n",
       " Stop Name      JORALEMON ST/COURT ST\n",
       " Stop Status            < 1 stop away\n",
       " dtype: object}"
      ]
     },
     "execution_count": 21,
     "metadata": {},
     "output_type": "execute_result"
    }
   ],
   "source": [
    "stop_info_dict"
   ]
  },
  {
   "cell_type": "code",
   "execution_count": 26,
   "metadata": {
    "collapsed": false
   },
   "outputs": [
    {
     "data": {
      "text/plain": [
       "['11', '10', '12', '1', '0', '3', '2', '5', '4', '7', '6', '9', '8']"
      ]
     },
     "execution_count": 26,
     "metadata": {},
     "output_type": "execute_result"
    }
   ],
   "source": [
    "stop_info_dict.keys()"
   ]
  },
  {
   "cell_type": "code",
   "execution_count": null,
   "metadata": {
    "collapsed": true
   },
   "outputs": [],
   "source": [
    "stop_info_dict.keys()"
   ]
  }
 ],
 "metadata": {
  "kernelspec": {
   "display_name": "PUI2016_Python2",
   "language": "python",
   "name": "pui2016_python2"
  },
  "language_info": {
   "codemirror_mode": {
    "name": "ipython",
    "version": 2
   },
   "file_extension": ".py",
   "mimetype": "text/x-python",
   "name": "python",
   "nbconvert_exporter": "python",
   "pygments_lexer": "ipython2",
   "version": "2.7.12"
  }
 },
 "nbformat": 4,
 "nbformat_minor": 0
}
